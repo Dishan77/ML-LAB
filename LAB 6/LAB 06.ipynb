{
 "cells": [
  {
   "cell_type": "code",
   "execution_count": 3,
   "id": "3491e096-63da-488e-9624-1aa6e9c75592",
   "metadata": {},
   "outputs": [
    {
     "name": "stdout",
     "output_type": "stream",
     "text": [
      "Weighted Sum: -0.33999999999999997\n"
     ]
    }
   ],
   "source": [
    "#1a\n",
    "\n",
    "def summation_unit(inputs, weights):\n",
    "\n",
    "    #Compute the weighted sum of inputs.\n",
    "    # inputs: List of input values.\n",
    "    # weights: List of corresponding weights.\n",
    "    # return: Weighted sum of inputs.\n",
    "\n",
    "    if len(inputs) != len(weights):\n",
    "        raise ValueError(\"The number of inputs must match the number of weights.\")\n",
    "    \n",
    "    weighted_sum = sum(i * w for i, w in zip(inputs, weights))\n",
    "    return weighted_sum\n",
    "\n",
    "# Inputs and corresponding weights\n",
    "inputs = [0.5, -0.2, 0.8]\n",
    "weights = [0.4, 0.7, -0.5]\n",
    "\n",
    "# Compute the weighted sum\n",
    "weighted_sum = summation_unit(inputs, weights)\n",
    "\n",
    "# Output the result\n",
    "print(f\"Weighted Sum: {weighted_sum}\")\n"
   ]
  },
  {
   "cell_type": "code",
   "execution_count": 5,
   "id": "7c387552-b308-42f9-bc2c-fc62ac6a0004",
   "metadata": {},
   "outputs": [
    {
     "name": "stdout",
     "output_type": "stream",
     "text": [
      "Step Function Output: 1\n",
      "Sigmoid Function Output: 0.574442516811659\n",
      "ReLU Function Output: 0.3\n",
      "TanH Function Output: 0.2913126124515909\n"
     ]
    }
   ],
   "source": [
    "#1b\n",
    "\n",
    "import math\n",
    "\n",
    "def step_function(x):\n",
    "    # Step activation function.\n",
    "    # :param x: Input value.\n",
    "    # :return: 1 if x >= 0, else 0.\n",
    "    return 1 if x >= 0 else 0\n",
    "\n",
    "def bipolar_step_function(x):\n",
    "    #Bipolar Step activation function.\n",
    "    return 1 if x >= 0 else -1\n",
    "\n",
    "def sigmoid_function(x):\n",
    "    #Sigmoid activation function.\n",
    "    return 1 / (1 + math.exp(-x))\n",
    "\n",
    "def tanh_function(x):\n",
    "    #Hyperbolic tangent activation function\n",
    "    return math.tanh(x)\n",
    "\n",
    "def relu_function(x):\n",
    "    #ReLU (Rectified Linear Unit) activation function\n",
    "    return max(0, x)\n",
    "\n",
    "def leaky_relu_function(x, alpha=0.01):\n",
    "    #Leaky ReLU activation function\n",
    "    return x if x >= 0 else alpha * x\n",
    "\n",
    "# Input to the activation function (weighted sum)\n",
    "x = 0.3\n",
    "\n",
    "# Apply Step activation function\n",
    "output_step = step_function(x)\n",
    "print(f\"Step Function Output: {output_step}\")\n",
    "\n",
    "# Apply Sigmoid activation function\n",
    "output_sigmoid = sigmoid_function(x)\n",
    "print(f\"Sigmoid Function Output: {output_sigmoid}\")\n",
    "\n",
    "# Apply ReLU activation function\n",
    "output_relu = relu_function(x)\n",
    "print(f\"ReLU Function Output: {output_relu}\")\n",
    "\n",
    "# Apply TanH activation function\n",
    "output_tanh = tanh_function(x)\n",
    "print(f\"TanH Function Output: {output_tanh}\")\n",
    "\n"
   ]
  },
  {
   "cell_type": "code",
   "execution_count": null,
   "id": "773c7e42-2ff1-402e-b804-664949ffc831",
   "metadata": {},
   "outputs": [],
   "source": []
  }
 ],
 "metadata": {
  "kernelspec": {
   "display_name": "Python 3 (ipykernel)",
   "language": "python",
   "name": "python3"
  },
  "language_info": {
   "codemirror_mode": {
    "name": "ipython",
    "version": 3
   },
   "file_extension": ".py",
   "mimetype": "text/x-python",
   "name": "python",
   "nbconvert_exporter": "python",
   "pygments_lexer": "ipython3",
   "version": "3.12.4"
  }
 },
 "nbformat": 4,
 "nbformat_minor": 5
}
