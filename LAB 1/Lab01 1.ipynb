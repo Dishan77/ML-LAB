{
 "cells": [
  {
   "cell_type": "code",
   "execution_count": 19,
   "id": "34963b35-078b-4a14-bace-ccff96c47a15",
   "metadata": {},
   "outputs": [
    {
     "name": "stdin",
     "output_type": "stream",
     "text": [
      "Enter string:  dishan\n"
     ]
    },
    {
     "name": "stdout",
     "output_type": "stream",
     "text": [
      "number of vovels:  2\n",
      "number of consonants:  4\n"
     ]
    }
   ],
   "source": [
    "def no_of_vovels(test):\n",
    "    vovels = [\"a\",\"e\",\"i\",\"o\",\"u\"]\n",
    "    c = 0\n",
    "    a = 0\n",
    "    for i in test:\n",
    "        if i in vovels:\n",
    "            c+=1\n",
    "        else:\n",
    "            a+=1\n",
    "    return c,a\n",
    "\n",
    "\n",
    "test = input(\"Enter string: \")\n",
    "c,a = no_of_vovels(test)\n",
    "print('number of vovels: ',c)\n",
    "print('number of consonants: ',a)\n",
    "\n"
   ]
  },
  {
   "cell_type": "code",
   "execution_count": 87,
   "id": "ed020f85-b844-4b73-9947-f0ab7cc0e4a6",
   "metadata": {},
   "outputs": [
    {
     "name": "stdout",
     "output_type": "stream",
     "text": [
      "enter matrix one\n"
     ]
    },
    {
     "name": "stdin",
     "output_type": "stream",
     "text": [
      "enter no. of rows:  3\n",
      "enter no. of columns:  3\n",
      " 1\n",
      " 2\n",
      " 3\n",
      " 4\n",
      " 5\n",
      " 6\n",
      " 7\n",
      " 8\n",
      " 9\n"
     ]
    },
    {
     "name": "stdout",
     "output_type": "stream",
     "text": [
      "[[1, 2, 3], [4, 5, 6], [7, 8, 9]]\n",
      "enter matrix two\n"
     ]
    },
    {
     "name": "stdin",
     "output_type": "stream",
     "text": [
      "enter no. of rows:  3\n",
      "enter no. of columns:  3\n",
      " 1\n",
      " 2\n",
      " 3\n",
      " 4\n",
      " 5\n",
      " 6\n",
      " 7\n",
      " 8\n",
      " 9\n"
     ]
    },
    {
     "name": "stdout",
     "output_type": "stream",
     "text": [
      "[[30, 36, 42], [66, 81, 96], [102, 126, 150]]\n"
     ]
    }
   ],
   "source": [
    "def matrix_mul(matrix1, matrix2, r1, c1, r2, c2):\n",
    "    if c1 != r2:\n",
    "        return \"error\"\n",
    "    else:\n",
    "        mul = []\n",
    "        for i in range(r1):\n",
    "            a = []\n",
    "            for j in range(c2):\n",
    "                c = 0\n",
    "                for k in range(r2):\n",
    "                    c += matrix1[i][k] * matrix2[k][j]\n",
    "                a.append(c)\n",
    "            mul.append(a)\n",
    "        return mul              \n",
    "\n",
    "print(\"enter matrix one\")\n",
    "r1 = int(input(\"enter no. of rows: \"))\n",
    "c1 = int(input(\"enter no. of columns: \"))\n",
    "\n",
    "matrix1 = []\n",
    "\n",
    "for i in range(r1):\n",
    "    a = []\n",
    "    for j in range(c1):\n",
    "        a.append(int(input()))\n",
    "    matrix1.append(a)\n",
    "\n",
    "print(matrix1)\n",
    "print(\"enter matrix two\")\n",
    "r2 = int(input(\"enter no. of rows: \"))\n",
    "c2 = int(input(\"enter no. of columns: \"))\n",
    "\n",
    "matrix2 = []\n",
    "\n",
    "for i in range(r2):\n",
    "    a = []\n",
    "    for j in range(c2):\n",
    "        a.append(int(input()))\n",
    "    matrix2.append(a)\n",
    "\n",
    "print(matrix_mul(matrix1, matrix2, r1, c1, r2, c2))"
   ]
  },
  {
   "cell_type": "code",
   "execution_count": 49,
   "id": "64b4992a-9dae-4104-850a-7717153bbe0c",
   "metadata": {},
   "outputs": [
    {
     "name": "stdout",
     "output_type": "stream",
     "text": [
      "0\n",
      "1\n",
      "2\n"
     ]
    }
   ],
   "source": []
  },
  {
   "cell_type": "code",
   "execution_count": 81,
   "id": "765cd730-86ac-4cc1-935f-c6c98918cce6",
   "metadata": {},
   "outputs": [
    {
     "name": "stdin",
     "output_type": "stream",
     "text": [
      "enter length of list 1:  3\n",
      " 1\n",
      " 2\n",
      " 3\n",
      "enter length of list 2:  4\n",
      " 1\n",
      " 2\n",
      " 3\n",
      " 4\n"
     ]
    },
    {
     "name": "stdout",
     "output_type": "stream",
     "text": [
      "number of common elements:  3\n"
     ]
    }
   ],
   "source": [
    "def common_elements(list1, list2, l1, l2):\n",
    "    c = 0\n",
    "    for i in range(l1):\n",
    "        for j in range(l2):\n",
    "            if list1[i] == list2[j]:\n",
    "                c += 1;\n",
    "    return c\n",
    "\n",
    "l1 = int(input(\"enter length of list 1: \"))\n",
    "list1 = [0]*l1\n",
    "for i in range(l1):\n",
    "    list1[i] = int(input())\n",
    "l2 = int(input(\"enter length of list 2: \"))\n",
    "list2 = [0]*l2\n",
    "for i in range(l2):\n",
    "    list2[i] = int(input())\n",
    "\n",
    "print(\"number of common elements: \",common_elements(list1, list2, l1, l2))"
   ]
  },
  {
   "cell_type": "code",
   "execution_count": 85,
   "id": "fb457f80-1a99-4b07-ab58-99b3424fb69d",
   "metadata": {},
   "outputs": [
    {
     "name": "stdout",
     "output_type": "stream",
     "text": [
      "enter matrix\n"
     ]
    },
    {
     "name": "stdin",
     "output_type": "stream",
     "text": [
      "enter no. of rows:  3\n",
      "enter no. of columns:  3\n",
      " 1\n",
      " 2\n",
      " 3\n",
      " 4\n",
      " 5\n",
      " 6\n",
      " 7\n",
      " 8\n",
      " 9\n"
     ]
    },
    {
     "name": "stdout",
     "output_type": "stream",
     "text": [
      "Traspose matrix:  [[1, 4, 7], [2, 5, 8], [3, 6, 9]]\n"
     ]
    }
   ],
   "source": [
    "def transpose(matrix, r1, c1):\n",
    "    tran = []\n",
    "    for i in range(r1):\n",
    "        a = []\n",
    "        for j in range(c1):\n",
    "            a.append(matrix[j][i])\n",
    "        tran.append(a)\n",
    "    return tran\n",
    "print(\"enter matrix\")\n",
    "r1 = int(input(\"enter no. of rows: \"))\n",
    "c1 = int(input(\"enter no. of columns: \"))\n",
    "\n",
    "matrix = []\n",
    "\n",
    "for i in range(r1):\n",
    "    a = []\n",
    "    for j in range(c1):\n",
    "        a.append(int(input()))\n",
    "    matrix.append(a)\n",
    "\n",
    "print('Traspose matrix: ',transpose(matrix, r1, c1))"
   ]
  },
  {
   "cell_type": "code",
   "execution_count": null,
   "id": "04d09784-42ae-4dd5-a5c0-36ae50a2f87f",
   "metadata": {},
   "outputs": [],
   "source": []
  }
 ],
 "metadata": {
  "kernelspec": {
   "display_name": "Python 3 (ipykernel)",
   "language": "python",
   "name": "python3"
  },
  "language_info": {
   "codemirror_mode": {
    "name": "ipython",
    "version": 3
   },
   "file_extension": ".py",
   "mimetype": "text/x-python",
   "name": "python",
   "nbconvert_exporter": "python",
   "pygments_lexer": "ipython3",
   "version": "3.12.4"
  }
 },
 "nbformat": 4,
 "nbformat_minor": 5
}
