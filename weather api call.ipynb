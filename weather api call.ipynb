{
 "cells": [
  {
   "cell_type": "code",
   "execution_count": 3,
   "id": "aee25e34-5b3c-4484-88ec-a6c1de42c7df",
   "metadata": {},
   "outputs": [
    {
     "name": "stdout",
     "output_type": "stream",
     "text": [
      "{'clouds': 37, 'datetime': '2023-08-04', 'dewpt': 18.5, 'dhi': 50, 'dni': 403, 'ghi': 331, 'max_dhi': 123, 'max_dni': 944, 'max_ghi': 1056, 'max_temp': 28, 'max_temp_ts': 1691146800, 'max_uv': 5, 'max_wind_dir': 262, 'max_wind_spd': 7.1, 'max_wind_spd_ts': 1691128800, 'min_temp': 20, 'min_temp_ts': 1691103600, 'precip': 0.5, 'precip_gpm': 0.5, 'pres': 912, 'revision_status': 'final', 'rh': 72, 'slp': 1011, 'snow': 0, 'snow_depth': None, 'solar_rad': 200, 't_dhi': 1191, 't_dni': 9675, 't_ghi': 7949, 't_solar_rad': 4799, 'temp': 24, 'ts': 1691087400, 'wind_dir': 262, 'wind_gust_spd': 14.8, 'wind_spd': 5.3}\n"
     ]
    }
   ],
   "source": [
    "import requests\n",
    "\n",
    "def fetch_weather_data(postal_code, country_code, start_date, end_date, api_key):\n",
    "    url = f\"https://api.weatherbit.io/v2.0/history/daily\"\n",
    "    params = {\n",
    "        \"postal_code\": postal_code,\n",
    "        \"country\": country_code,\n",
    "        \"start_date\": start_date,\n",
    "        \"end_date\": end_date,\n",
    "        \"key\": api_key\n",
    "    }\n",
    "\n",
    "    try:\n",
    "        response = requests.get(url, params=params)\n",
    "        response.raise_for_status() \n",
    "\n",
    "        data = response.json()\n",
    "        return data\n",
    "\n",
    "    except requests.exceptions.HTTPError as http_err:\n",
    "        print(f\"HTTP error occurred: {http_err}\")\n",
    "    except Exception as err:\n",
    "        print(f\"Other error occurred: {err}\")\n",
    "\n",
    "    return None\n",
    "\n",
    "\n",
    "api_key = #API KEY\n",
    "\n",
    "\n",
    "postal_code = '560035'  \n",
    "country_code = 'IN'  \n",
    "start_date = '2023-08-04'  \n",
    "end_date = '2024-08-05'  \n",
    "\n",
    "weather_data = fetch_weather_data(postal_code, country_code, start_date, end_date, api_key)\n",
    "\n",
    "if weather_data:\n",
    "    print(weather_data[\"data\"][0])\n",
    "else:\n",
    "    print(\"Failed to retrieve weather data.\")"
   ]
  },
  {
   "cell_type": "code",
   "execution_count": null,
   "id": "9d7f2b32-d758-4666-904d-83b8bded0def",
   "metadata": {},
   "outputs": [],
   "source": []
  }
 ],
 "metadata": {
  "kernelspec": {
   "display_name": "Python 3 (ipykernel)",
   "language": "python",
   "name": "python3"
  },
  "language_info": {
   "codemirror_mode": {
    "name": "ipython",
    "version": 3
   },
   "file_extension": ".py",
   "mimetype": "text/x-python",
   "name": "python",
   "nbconvert_exporter": "python",
   "pygments_lexer": "ipython3",
   "version": "3.12.4"
  }
 },
 "nbformat": 4,
 "nbformat_minor": 5
}
